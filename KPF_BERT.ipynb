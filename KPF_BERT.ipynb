{
  "nbformat": 4,
  "nbformat_minor": 0,
  "metadata": {
    "colab": {
      "provenance": [],
      "authorship_tag": "ABX9TyM9gN795tOWt9qGZc+xJvIN",
      "include_colab_link": true
    },
    "kernelspec": {
      "name": "python3",
      "display_name": "Python 3"
    },
    "language_info": {
      "name": "python"
    }
  },
  "cells": [
    {
      "cell_type": "markdown",
      "metadata": {
        "id": "view-in-github",
        "colab_type": "text"
      },
      "source": [
        "<a href=\"https://colab.research.google.com/github/52muffin/graduation_project_2025/blob/main/KPF_BERT.ipynb\" target=\"_parent\"><img src=\"https://colab.research.google.com/assets/colab-badge.svg\" alt=\"Open In Colab\"/></a>"
      ]
    },
    {
      "cell_type": "code",
      "execution_count": 4,
      "metadata": {
        "id": "DqzrGVOAM-gZ"
      },
      "outputs": [],
      "source": [
        "!pip3 install torch>=1.4.0\n",
        "!pip3 install transformers>=4.9.2"
      ]
    },
    {
      "cell_type": "code",
      "source": [
        "from transformers import BertModel, BertTokenizer\n",
        "\n",
        "model_name_or_path = \"/content/\"  # Bert 바이너리가 포함된 디렉토리\n",
        "\n",
        "model = BertModel.from_pretrained(model_name_or_path, add_pooling_layer=False)\n",
        "tokenizer = BertTokenizer.from_pretrained(model_name_or_path)"
      ],
      "metadata": {
        "id": "WRKqsUWHOOUY"
      },
      "execution_count": 7,
      "outputs": []
    }
  ]
}